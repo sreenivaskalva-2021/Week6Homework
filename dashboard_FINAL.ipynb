{
 "cells": [
  {
   "cell_type": "markdown",
   "metadata": {},
   "source": [
    "# San Francisco Rental Prices Dashboard\n",
    "\n",
    "In this notebook, you will compile the visualizations from the previous analysis into functions that can be used for a Panel dashboard."
   ]
  },
  {
   "cell_type": "code",
   "execution_count": 1,
   "metadata": {},
   "outputs": [
    {
     "ename": "ModuleNotFoundError",
     "evalue": "No module named 'panel'",
     "output_type": "error",
     "traceback": [
      "\u001b[1;31m---------------------------------------------------------------------------\u001b[0m",
      "\u001b[1;31mModuleNotFoundError\u001b[0m                       Traceback (most recent call last)",
      "\u001b[1;32m<ipython-input-1-2a2a9a35167e>\u001b[0m in \u001b[0;36m<module>\u001b[1;34m\u001b[0m\n\u001b[0;32m      1\u001b[0m \u001b[1;31m# imports\u001b[0m\u001b[1;33m\u001b[0m\u001b[1;33m\u001b[0m\u001b[1;33m\u001b[0m\u001b[0m\n\u001b[1;32m----> 2\u001b[1;33m \u001b[1;32mimport\u001b[0m \u001b[0mpanel\u001b[0m \u001b[1;32mas\u001b[0m \u001b[0mpn\u001b[0m\u001b[1;33m\u001b[0m\u001b[1;33m\u001b[0m\u001b[0m\n\u001b[0m\u001b[0;32m      3\u001b[0m \u001b[0mpn\u001b[0m\u001b[1;33m.\u001b[0m\u001b[0mextension\u001b[0m\u001b[1;33m(\u001b[0m\u001b[1;34m'plotly'\u001b[0m\u001b[1;33m)\u001b[0m\u001b[1;33m\u001b[0m\u001b[1;33m\u001b[0m\u001b[0m\n\u001b[0;32m      4\u001b[0m \u001b[1;32mimport\u001b[0m \u001b[0mplotly\u001b[0m\u001b[1;33m.\u001b[0m\u001b[0mexpress\u001b[0m \u001b[1;32mas\u001b[0m \u001b[0mpx\u001b[0m\u001b[1;33m\u001b[0m\u001b[1;33m\u001b[0m\u001b[0m\n\u001b[0;32m      5\u001b[0m \u001b[1;32mimport\u001b[0m \u001b[0mpandas\u001b[0m \u001b[1;32mas\u001b[0m \u001b[0mpd\u001b[0m\u001b[1;33m\u001b[0m\u001b[1;33m\u001b[0m\u001b[0m\n",
      "\u001b[1;31mModuleNotFoundError\u001b[0m: No module named 'panel'"
     ]
    }
   ],
   "source": [
    "# imports\n",
    "import panel as pn\n",
    "pn.extension('plotly')\n",
    "import plotly.express as px\n",
    "import pandas as pd\n",
    "import hvplot.pandas\n",
    "import matplotlib.pyplot as plt\n",
    "import os\n",
    "from pathlib import Path\n",
    "from dotenv import load_dotenv"
   ]
  },
  {
   "cell_type": "code",
   "execution_count": null,
   "metadata": {},
   "outputs": [],
   "source": [
    "# Read the Mapbox API key\n",
    "load_dotenv()\n",
    "map_box_api = os.getenv(\"mapbox\")\n",
    "px.set_mapbox_access_token(map_box_api)"
   ]
  },
  {
   "cell_type": "markdown",
   "metadata": {},
   "source": [
    "# Import Data"
   ]
  },
  {
   "cell_type": "code",
   "execution_count": null,
   "metadata": {},
   "outputs": [],
   "source": [
    "# Import the necessary CSVs to Pandas DataFrames\n",
    "file_path = Path(\"./Data/sfo_neighborhoods_census_data.csv\")\n",
    "sfo_data = pd.read_csv(file_path, index_col=\"year\")\n",
    "#sfo_data.head()\n",
    "\n",
    "file_path = Path(\"./Data/neighborhoods_coordinates.csv\")\n",
    "neighborhood_locations_df = pd.read_csv(file_path)\n",
    "#neighborhood_locations_df.head()"
   ]
  },
  {
   "cell_type": "markdown",
   "metadata": {},
   "source": [
    "- - -"
   ]
  },
  {
   "cell_type": "markdown",
   "metadata": {},
   "source": [
    "## Panel Visualizations\n",
    "\n",
    "In this section, you will copy the code for each plot type from your analysis notebook and place it into separate functions that Panel can use to create panes for the dashboard. \n",
    "\n",
    "These functions will convert the plot object to a Panel pane.\n",
    "\n",
    "Be sure to include any DataFrame transformation/manipulation code required along with the plotting code.\n",
    "\n",
    "Return a Panel pane object from each function that can be used to build the dashboard.\n",
    "\n",
    "Note: Remove any `.show()` lines from the code. We want to return the plots instead of showing them. The Panel dashboard will then display the plots."
   ]
  },
  {
   "cell_type": "code",
   "execution_count": null,
   "metadata": {},
   "outputs": [],
   "source": [
    "# Define Panel Visualization Functions\n",
    "def housing_units_per_year():\n",
    "    \"\"\"Housing Units Per Year.\"\"\"\n",
    "\n",
    "    sfo_data_mean_of_all_columns = sfo_data.groupby([\"year\"]).mean()\n",
    "    sfo_data_housingunits = sfo_data_mean_of_all_columns.drop(['sale_price_sqr_foot', 'gross_rent'],axis=1)\n",
    "    sfo_data_housingunits.rename(columns={\"housing_units\": \"Mean of housing units\"}, inplace=True)\n",
    "    max_units = sfo_data_housingunits[\"Mean of housing units\"].max()\n",
    "    min_units = sfo_data_housingunits[\"Mean of housing units\"].min()\n",
    "    std_dev_units = sfo_data_housingunits[\"Mean of housing units\"].std()\n",
    "    # Plot the data\n",
    "    fig_housing_units = plt.figure()\n",
    "    plot_housing_units = sfo_data_housingunits.plot.bar()\n",
    "    plot_housing_units.set_xlabel(\"Year\", fontsize=12)\n",
    "    plot_housing_units.set_ylabel(\"Housing Units\", fontsize=12)\n",
    "    plot_housing_units.set_title( \"Housing Units in San Francisco from 2010 to 2016\", fontsize=14, fontweight=\"bold\")\n",
    "    plot_housing_units.set_ylim(min_units - std_dev_units,  max_units + std_dev_units \n",
    "    plt.close(fig_housing_units)\n",
    "\n",
    "    return pn.pane.Matplotlib(fig_housing_units, tight=True)\n",
    "\n",
    "\n",
    "def average_gross_rent():\n",
    "    \"\"\"Average Gross Rent in San Francisco Per Year.\"\"\"\n",
    "    \n",
    "    # YOUR CODE HERE!\n",
    "    average_sp_gr_peryear_df = sfo_data[['sale_price_sqr_foot','gross_rent']].groupby('year').mean()\n",
    "    fig_avg_gross_rent = plt.figure()\n",
    "    plot_avg_gross_rent = average_sp_gr_peryear_df[\"gross_rent\"].plot()\n",
    "    plot_avg_gross_rent.set_xlabel(\"Year\", fontsize=12)\n",
    "    plot_avg_gross_rent.set_ylabel(\"Gross Rent\", fontsize=12)\n",
    "    plot_avg_gross_rent.set_title(\n",
    "    \"Average Gross Rent in San Francisco\", fontsize=14, fontweight=\"bold\"\n",
    "    )\n",
    "    plt.close(fig_avg_gross_rent)\n",
    "    \n",
    "    return pn.pane.Matplotlib(fig_avg_gross_rent, tight=True)\n",
    "\n",
    "\n",
    "def average_sales_price():\n",
    "    \"\"\"Average Sales Price Per Year.\"\"\"\n",
    "    \n",
    "    # YOUR CODE HERE!\n",
    "    average_sp_gr_peryear_df = sfo_data[['sale_price_sqr_foot','gross_rent']].groupby('year').mean()\n",
    "    fig_avg_sale_price = plt.figure()\n",
    "    plot_avg_sale_price = average_sp_gr_peryear_df[\"sale_price_sqr_foot\"].plot()\n",
    "    plot_avg_sale_price.set_xlabel(\"Year\", fontsize=12)\n",
    "    plot_avg_sale_price.set_ylabel(\"Sale Price per Sft\", fontsize=12)\n",
    "    plot_avg_sale_price.set_title(\n",
    "    \"Average Sale Price per Sft in San Francisco\", fontsize=14, fontweight=\"bold\"\n",
    "    )\n",
    "    plt.close(fig_avg_sale_price)\n",
    "    \n",
    "    return pn.pane.Matplotlib(fig_avg_sale_price, tight=True)\n",
    "\n",
    "\n",
    "def average_price_by_neighborhood():\n",
    "    \"\"\"Average Prices by Neighborhood.\"\"\"\n",
    "    \n",
    "    # YOUR CODE HERE!\n",
    "    average_price_by_nhood_df = sfo_data.groupby([\"year\", \"neighborhood\"]).mean()\n",
    "    average_price_by_nhood_df.reset_index(inplace=True)\n",
    "    average_price_by_nhood_df.rename(columns={\"level_0\": \"year\"}, inplace=True)\n",
    "    \n",
    "    fig_average_price_by_neighborhood = plt.figure()\n",
    "    avg_price_by_neighborhood_plot = average_price_by_nhood_df.hvplot.line(\n",
    "        \"year\",\n",
    "        \"sale_price_sqr_foot\",\n",
    "        xlabel= \"Year\",\n",
    "        ylabel= \"Avg. Sale Price per Square Foot\",\n",
    "        groupby= \"neighborhood\")\n",
    "    plt.close(fig_average_price_by_neighborhood)\n",
    "    return pn.pane.Matplotlib(fig_average_price_by_neighborhood, tight=True)\n",
    "\n",
    "def top_most_expensive_neighborhoods():\n",
    "    \"\"\"Top 10 Most Expensive Neighborhoods.\"\"\"\n",
    "\n",
    "    # YOUR CODE HERE!\n",
    "    neighborhood_df = sfo_data.groupby(['neighborhood']).mean()\n",
    "    expensive_neighborhood = neighborhood_df.sort_values(\"sale_price_sqr_foot\", ascending = False).head(10)\n",
    "    expensive_neighborhood.reset_index(drop=False)\n",
    "\n",
    "    expensive_neighborhood_hvplot =expensive_neighborhood.hvplot.bar(\n",
    "        \"neighborhood\",\n",
    "        \"sale_price_sqr_foot\",\n",
    "        title=\"Top 10 Expensive Neighborhoods in SFO\",\n",
    "        xlabel=\"Neighborhood\",\n",
    "        ylabel=\"Avg. Sale Price per Square Foot\",\n",
    "        height=400,\n",
    "        rot=90\n",
    "    )\n",
    "    return expensive_neighborhood_hvplot\n",
    "\n",
    "def most_expensive_neighborhoods_rent_sales():\n",
    "    \"\"\"Comparison of Rent and Sales Prices of Most Expensive Neighborhoods.\"\"\"   \n",
    "    \n",
    "    # YOUR CODE HERE!\n",
    "    neighborhood_df = sfo_data.groupby(['neighborhood']).mean()\n",
    "    expensive_neighborhood = neighborhood_df.sort_values(\"sale_price_sqr_foot\", ascending = False).head(10)\n",
    "    average_price_by_nhood_df = sfo_data.groupby([\"year\", \"neighborhood\"]).mean()\n",
    "    average_price_by_nhood_df.reset_index(inplace=True)\n",
    "    result = pd.merge(expensive_neighborhood, average_price_by_nhood_df,how='inner', on=['neighborhood'])\n",
    "\n",
    "    result_hvplot = result.hvplot.bar(\n",
    "        x=\"neighborhood\",\n",
    "        y=['sale_price_sqr_foot_y','gross_rent_y'],\n",
    "        title=\"Top 10 Expensive Neighborhoods in SFO\",\n",
    "        xlabel=\"Neighborhood\",\n",
    "        ylabel=\"Housing Units\",\n",
    "        height=400,\n",
    "        rot=90,\n",
    "        groupby='neighborhood'\n",
    "    )\n",
    "    return result_hvplot\n",
    "\n",
    "\n",
    "def neighborhood_map():\n",
    "    \"\"\"Neighborhood Map.\"\"\"\n",
    "\n",
    "    # YOUR CODE HERE!\n",
    "    sfo_data_mean_of_all_columns = sfo_data.groupby([\"year\"]).mean()\n",
    "    neighbourhood_meanvalues_df = sfo_data.groupby([\"neighborhood\"]).mean()\n",
    "    neighbourhood_meanvalues_df.reset_index(inplace=True)\n",
    "    neighbourhood_meanvalues_df.rename(columns={\"neighborhood\": \"Neighborhood\"}, inplace=True)\n",
    "    #neighbourhood_meanvalues_df.head()\n",
    "    merged_neighbourhood_df = pd.merge(\n",
    "        neighborhood_locations_df, neighbourhood_meanvalues_df, on=\"Neighborhood\"\n",
    "        )\n",
    "    map = px.scatter_mapbox(\n",
    "        merged_neighbourhood_df,\n",
    "        lat=\"Lat\",\n",
    "        lon=\"Lon\",\n",
    "        size=\"sale_price_sqr_foot\",\n",
    "        color=\"gross_rent\",\n",
    "        color_continuous_scale=px.colors.cyclical.IceFire,\n",
    "        size_max=15,\n",
    "        zoom=11,\n",
    "        hover_name=\"Neighborhood\",\n",
    "        title=\"Average values per neighbourhood Scatter Plot Visualisation\",\n",
    "    )\n",
    "    plotly_panel = pn.pane.Plotly(map)\n",
    "    plotly_panel._updates = True\n",
    "    return plotly_panel\n"
   ]
  },
  {
   "cell_type": "markdown",
   "metadata": {},
   "source": [
    "## Panel Dashboard\n",
    "\n",
    "In this section, you will combine all of the plots into a single dashboard view using Panel. Be creative with your dashboard design!"
   ]
  },
  {
   "cell_type": "code",
   "execution_count": null,
   "metadata": {},
   "outputs": [],
   "source": [
    "# Create a Title for the Dashboard\n",
    "# YOUR CODE HERE!\n",
    "\n",
    "title = pn.pane.Markdown(\n",
    "    \"\"\"\n",
    "# Rental Analysis of San Francisco from 2010 to 2016\n",
    "\"\"\",\n",
    "    width=800,\n",
    ")\n",
    "welcome = pn.pane.Markdown(\n",
    "    \"\"\"\n",
    "This dashboard presents a visualisation of rental analysis of historical prices of house units, sale price per square foot and gross rent in San Francisco from 2010 to 2016. You can navigate through the tabs  to explore details\n",
    "\"\"\"\n",
    ")\n",
    "\n",
    "# Create a tab layout for the dashboard\n",
    "tabs = pn.Tabs(\n",
    "    (\"Welcome\", pn.Column(welcome, neighborhood_map())),\n",
    "    (\"Yearly Market Analysis\", pn.Column(housing_units_per_year(), average_gross_rent(), average_sales_price())),\n",
    "    (\"Neighborhood Analysis\", pn.Column(average_price_by_neighborhood(), top_most_expensive_neighborhoods())),\n",
    ")\n"
   ]
  },
  {
   "cell_type": "markdown",
   "metadata": {},
   "source": [
    "## Serve the Panel Dashboard"
   ]
  },
  {
   "cell_type": "code",
   "execution_count": null,
   "metadata": {},
   "outputs": [],
   "source": [
    "# Serve the# dashboard\n",
    "# YOUR CODE HERE!\n",
    "tabs.servable()"
   ]
  },
  {
   "cell_type": "markdown",
   "metadata": {},
   "source": [
    "# Debugging\n",
    "\n",
    "Note: Some of the Plotly express plots may not render in the notebook through the panel functions.\n",
    "\n",
    "However, you can test each plot by uncommenting the following code"
   ]
  },
  {
   "cell_type": "code",
   "execution_count": null,
   "metadata": {},
   "outputs": [],
   "source": [
    "# housing_units_per_year()"
   ]
  },
  {
   "cell_type": "code",
   "execution_count": null,
   "metadata": {},
   "outputs": [],
   "source": [
    "# average_gross_rent()"
   ]
  },
  {
   "cell_type": "code",
   "execution_count": null,
   "metadata": {},
   "outputs": [],
   "source": [
    "# average_sales_price()"
   ]
  },
  {
   "cell_type": "code",
   "execution_count": null,
   "metadata": {},
   "outputs": [],
   "source": [
    "# average_price_by_neighborhood()"
   ]
  },
  {
   "cell_type": "code",
   "execution_count": null,
   "metadata": {},
   "outputs": [],
   "source": [
    "# top_most_expensive_neighborhoods()"
   ]
  },
  {
   "cell_type": "code",
   "execution_count": null,
   "metadata": {},
   "outputs": [],
   "source": [
    "# most_expensive_neighborhoods_rent_sales()"
   ]
  },
  {
   "cell_type": "code",
   "execution_count": null,
   "metadata": {},
   "outputs": [],
   "source": [
    "# neighborhood_map().show()"
   ]
  },
  {
   "cell_type": "code",
   "execution_count": null,
   "metadata": {},
   "outputs": [],
   "source": [
    "# parallel_categories()"
   ]
  },
  {
   "cell_type": "code",
   "execution_count": null,
   "metadata": {},
   "outputs": [],
   "source": [
    "# parallel_coordinates()"
   ]
  },
  {
   "cell_type": "code",
   "execution_count": null,
   "metadata": {},
   "outputs": [],
   "source": [
    "# sunburst()"
   ]
  },
  {
   "cell_type": "code",
   "execution_count": null,
   "metadata": {},
   "outputs": [],
   "source": []
  }
 ],
 "metadata": {
  "file_extension": ".py",
  "kernelspec": {
   "display_name": "Python 3",
   "language": "python",
   "name": "python3"
  },
  "language_info": {
   "codemirror_mode": {
    "name": "ipython",
    "version": 3
   },
   "file_extension": ".py",
   "mimetype": "text/x-python",
   "name": "python",
   "nbconvert_exporter": "python",
   "pygments_lexer": "ipython3",
   "version": "3.8.5"
  },
  "mimetype": "text/x-python",
  "name": "python",
  "npconvert_exporter": "python",
  "pygments_lexer": "ipython3",
  "version": 3
 },
 "nbformat": 4,
 "nbformat_minor": 4
}
